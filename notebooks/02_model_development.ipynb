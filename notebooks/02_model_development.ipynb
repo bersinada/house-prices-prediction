{
 "cells": [
  {
   "cell_type": "code",
   "execution_count": 8,
   "id": "112dfed9",
   "metadata": {},
   "outputs": [
    {
     "name": "stdout",
     "output_type": "stream",
     "text": [
      "Libraries imported successfully.\n"
     ]
    }
   ],
   "source": [
    "# Import necessary libraries\n",
    "import pandas as pd\n",
    "import numpy as np\n",
    "import matplotlib.pyplot as plt\n",
    "import seaborn as sns\n",
    "from sklearn.model_selection import train_test_split, cross_val_score, GridSearchCV\n",
    "from sklearn.preprocessing import StandardScaler, LabelEncoder\n",
    "from sklearn.ensemble import RandomForestRegressor, GradientBoostingRegressor\n",
    "from sklearn.linear_model import LinearRegression, Ridge, Lasso\n",
    "from sklearn.svm import SVR\n",
    "from sklearn.metrics import mean_squared_error, r2_score, mean_absolute_error\n",
    "import warnings\n",
    "warnings.filterwarnings('ignore')\n",
    "\n",
    "print(\"Libraries imported successfully.\")"
   ]
  },
  {
   "cell_type": "code",
   "execution_count": 2,
   "id": "df9cc487",
   "metadata": {},
   "outputs": [
    {
     "name": "stdout",
     "output_type": "stream",
     "text": [
      "Dataset loaded successfully.\n",
      "Shape: (20640, 10)\n",
      "Columns: ['longitude', 'latitude', 'housing_median_age', 'total_rooms', 'total_bedrooms', 'population', 'households', 'median_income', 'median_house_value', 'ocean_proximity']\n"
     ]
    }
   ],
   "source": [
    "# Load the dataset\n",
    "df = pd.read_csv('../data/raw/housing.csv')\n",
    "\n",
    "print(f\"Dataset loaded successfully.\")\n",
    "print(f\"Shape: {df.shape}\")\n",
    "print(f\"Columns: {list(df.columns)}\")"
   ]
  },
  {
   "cell_type": "code",
   "execution_count": 3,
   "id": "3108ef3f",
   "metadata": {},
   "outputs": [
    {
     "name": "stdout",
     "output_type": "stream",
     "text": [
      "Handling missing values...\n",
      "Missing values before: 207\n",
      "Missing values after: 0\n",
      "Missing values handled.\n"
     ]
    }
   ],
   "source": [
    "# Handle missing values in total_bedrooms\n",
    "print(\"Handling missing values...\")\n",
    "\n",
    "# Check missing values\n",
    "missing_values = df.isnull().sum()\n",
    "print(f\"Missing values before: {missing_values.sum()}\")\n",
    "\n",
    "# Fill missing values with median\n",
    "df['total_bedrooms'].fillna(df['total_bedrooms'].median(), inplace=True)\n",
    "\n",
    "# Verify\n",
    "missing_values_after = df.isnull().sum()\n",
    "print(f\"Missing values after: {missing_values_after.sum()}\")\n",
    "print(\"Missing values handled.\")"
   ]
  },
  {
   "cell_type": "code",
   "execution_count": 4,
   "id": "b30feb5a",
   "metadata": {},
   "outputs": [
    {
     "name": "stdout",
     "output_type": "stream",
     "text": [
      "Feature Engineering...\n",
      "New features created:\n",
      "- rooms_per_household\n",
      "- bedrooms_per_room\n",
      "- population_per_household\n",
      "- income_cat\n"
     ]
    }
   ],
   "source": [
    "# Feature Engineering\n",
    "print(\"Feature Engineering...\")\n",
    "\n",
    "# Create new features\n",
    "df['rooms_per_household'] = df['total_rooms'] / df['households']\n",
    "df['bedrooms_per_room'] = df['total_bedrooms'] / df['total_rooms']\n",
    "df['population_per_household'] = df['population'] / df['households']\n",
    "\n",
    "# Create income categories\n",
    "df['income_cat'] = pd.cut(df['median_income'],\n",
    "bins=[0, 1.5, 3.0, 4.5, 6.0, 15.0],\n",
    "labels=['Low', 'Low-Medium', 'Medium', 'Medium-High', 'High'])\n",
    "\n",
    "print(\"New features created:\")\n",
    "print(\"- rooms_per_household\")\n",
    "print(\"- bedrooms_per_room\")\n",
    "print(\"- population_per_household\")\n",
    "print(\"- income_cat\")"
   ]
  },
  {
   "cell_type": "code",
   "execution_count": 5,
   "id": "d7a30c33",
   "metadata": {},
   "outputs": [
    {
     "name": "stdout",
     "output_type": "stream",
     "text": [
      "Preparing data for modeling...\n",
      "Feature shape: (20640, 13)\n",
      "Target shape: (20640,)\n",
      "Categorical columns encoded: ['ocean_proximity', 'income_cat']\n"
     ]
    }
   ],
   "source": [
    "# Prepare data for modeling\n",
    "print(\"Preparing data for modeling...\")\n",
    "\n",
    "# Seperate features and target\n",
    "X = df.drop('median_house_value', axis=1)\n",
    "y = df['median_house_value']\n",
    "\n",
    "# Handle categorical variables\n",
    "categorical_cols = ['ocean_proximity', 'income_cat']\n",
    "label_encoders = {}\n",
    "\n",
    "for col in categorical_cols:\n",
    "    le=LabelEncoder()\n",
    "    X[col] = le.fit_transform(X[col])\n",
    "    label_encoders[col] = le\n",
    "\n",
    "print(f\"Feature shape: {X.shape}\")\n",
    "print(f\"Target shape: {y.shape}\")\n",
    "print(f\"Categorical columns encoded: {categorical_cols}\")"
   ]
  },
  {
   "cell_type": "code",
   "execution_count": 6,
   "id": "6fb98bf5",
   "metadata": {},
   "outputs": [
    {
     "name": "stdout",
     "output_type": "stream",
     "text": [
      "Creating train_test split...\n",
      "Training set: 16512 samples\n",
      "Testing set: 4128 samples\n",
      "Features: 13\n"
     ]
    }
   ],
   "source": [
    "# Train-test split\n",
    "print(\"Creating train_test split...\")\n",
    "\n",
    "X_train, X_test, y_train, y_test = train_test_split(\n",
    "    X, y, test_size=0.2, random_state=42\n",
    ")\n",
    "\n",
    "print(f\"Training set: {X_train.shape[0]} samples\")\n",
    "print(f\"Testing set: {X_test.shape[0]} samples\")\n",
    "print(f\"Features: {X_train.shape[1]}\")"
   ]
  },
  {
   "cell_type": "code",
   "execution_count": 9,
   "id": "db04e854",
   "metadata": {},
   "outputs": [
    {
     "name": "stdout",
     "output_type": "stream",
     "text": [
      "Training multiple models...\n",
      "\n",
      "Training Linear Regression...\n",
      "Train R^2: 0.6540\n",
      "Test R^2: 0.5876\n",
      "Test RMSE: $73,517\n",
      "Test MAE: $51,570\n",
      "\n",
      "Training Ridge Regression...\n",
      "Train R^2: 0.6540\n",
      "Test R^2: 0.5906\n",
      "Test RMSE: $73,246\n",
      "Test MAE: $51,520\n",
      "\n",
      "Training Lasso Regression...\n",
      "Train R^2: 0.6540\n",
      "Test R^2: 0.5877\n",
      "Test RMSE: $73,500\n",
      "Test MAE: $51,567\n",
      "\n",
      "Training Random Forest...\n",
      "Train R^2: 0.9737\n",
      "Test R^2: 0.8050\n",
      "Test RMSE: $50,544\n",
      "Test MAE: $32,718\n",
      "\n",
      "Training Gradient Boosting...\n",
      "Train R^2: 0.8056\n",
      "Test R^2: 0.7781\n",
      "Test RMSE: $53,928\n",
      "Test MAE: $36,963\n",
      "\n",
      "Training SVR...\n",
      "Train R^2: -0.0544\n",
      "Test R^2: -0.0487\n",
      "Test RMSE: $117,229\n",
      "Test MAE: $87,344\n",
      "\n",
      "All models trained.\n"
     ]
    }
   ],
   "source": [
    "# Model Training\n",
    "print(\"Training multiple models...\")\n",
    "\n",
    "# Define models\n",
    "models = {\n",
    "    'Linear Regression': LinearRegression(),\n",
    "    'Ridge Regression': Ridge(),\n",
    "    'Lasso Regression': Lasso(),\n",
    "    'Random Forest': RandomForestRegressor(n_estimators=100, random_state=42),\n",
    "    'Gradient Boosting': GradientBoostingRegressor(n_estimators=100, random_state=42),\n",
    "    'SVR': SVR(kernel='rbf', C=1.0, gamma='scale')\n",
    "}\n",
    "\n",
    "# Train and evaluate models\n",
    "results = {}\n",
    "for name, model in models.items():\n",
    "    print(f\"\\nTraining {name}...\")\n",
    "\n",
    "    # Train model\n",
    "    model.fit(X_train, y_train)\n",
    "\n",
    "    # Make predictions\n",
    "    y_pred_train = model.predict(X_train)\n",
    "    y_pred_test = model.predict(X_test)\n",
    "\n",
    "    # Calculate metrics\n",
    "    train_r2 = r2_score(y_train, y_pred_train)\n",
    "    test_r2 =r2_score(y_test, y_pred_test)\n",
    "    train_rmse = np.sqrt(mean_squared_error(y_train, y_pred_train))\n",
    "    test_rmse = np.sqrt(mean_squared_error(y_test, y_pred_test))\n",
    "    train_mae = mean_absolute_error(y_train, y_pred_train)\n",
    "    test_mae = mean_absolute_error(y_test, y_pred_test)\n",
    "\n",
    "    results[name] = {\n",
    "        'model': model,\n",
    "        'train_r2': train_r2,\n",
    "        'test_r2': test_r2,\n",
    "        'train_rmse': train_rmse,\n",
    "        'test_rmse': test_rmse,\n",
    "        'train_mae': train_mae,\n",
    "        'test_mae': test_mae\n",
    "    }\n",
    "\n",
    "    print(f\"Train R^2: {train_r2:.4f}\")\n",
    "    print(f\"Test R^2: {test_r2:.4f}\")\n",
    "    print(f\"Test RMSE: ${test_rmse:,.0f}\")\n",
    "    print(f\"Test MAE: ${test_mae:,.0f}\")\n",
    "\n",
    "print(\"\\nAll models trained.\")\n"
   ]
  },
  {
   "cell_type": "code",
   "execution_count": 11,
   "id": "c7339a6e",
   "metadata": {},
   "outputs": [
    {
     "name": "stdout",
     "output_type": "stream",
     "text": [
      "Model Comparison Results:\n",
      "================================================================================\n",
      "            Model  Train R^2  Test R^2     Test RMSE     Test MAE\n",
      "    Random Forest   0.973726  0.805047  50543.799964 32718.094029\n",
      "Gradient Boosting   0.805647  0.778066  53928.171261 36962.602446\n",
      " Ridge Regression   0.653993  0.590582  73246.460508 51519.618046\n",
      " Lasso Regression   0.654010  0.587744  73499.973730 51567.079116\n",
      "Linear Regression   0.654011  0.587557  73516.556949 51570.254875\n",
      "              SVR  -0.054393 -0.048733 117229.208647 87344.177280\n",
      "\n",
      "Best Model: Random Forest\n",
      "Test R^2: 0.8050\n",
      "Test RMSE: $50,544\n"
     ]
    }
   ],
   "source": [
    "# Model Comparison\n",
    "print(\"Model Comparison Results:\")\n",
    "print(\"=\" * 80)\n",
    "\n",
    "# Create comparison dataframe\n",
    "comparison_data = []\n",
    "for name, metrics in results.items():\n",
    "    comparison_data.append({\n",
    "        'Model': name,\n",
    "        'Train R^2': metrics['train_r2'],\n",
    "        'Test R^2': metrics['test_r2'],\n",
    "        'Test RMSE': metrics['test_rmse'],\n",
    "        'Test MAE': metrics['test_mae']\n",
    "    })\n",
    "\n",
    "comparison_df = pd.DataFrame(comparison_data)\n",
    "comparison_df = comparison_df.sort_values('Test R^2', ascending=False)\n",
    "\n",
    "print(comparison_df.to_string(index=False))\n",
    "\n",
    "# Find best model\n",
    "best_model_name = comparison_df.iloc[0]['Model']\n",
    "best_model = results[best_model_name]['model']\n",
    "\n",
    "print(f\"\\nBest Model: {best_model_name}\")\n",
    "print(f\"Test R^2: {comparison_df.iloc[0]['Test R^2']:.4f}\")\n",
    "print(f\"Test RMSE: ${comparison_df.iloc[0]['Test RMSE']:,.0f}\")"
   ]
  },
  {
   "cell_type": "code",
   "execution_count": 12,
   "id": "ad749081",
   "metadata": {},
   "outputs": [
    {
     "name": "stdout",
     "output_type": "stream",
     "text": [
      "Feature Importance Analysis\n",
      "==================================================\n",
      "Top 10 Features by Importance:\n",
      "                     feature  importance\n",
      "7              median_income    0.516455\n",
      "11  population_per_household    0.133408\n",
      "8            ocean_proximity    0.071119\n",
      "1                   latitude    0.064225\n",
      "0                  longitude    0.063906\n",
      "2         housing_median_age    0.048962\n",
      "9        rooms_per_household    0.026180\n",
      "10         bedrooms_per_room    0.025272\n",
      "4             total_bedrooms    0.012961\n",
      "3                total_rooms    0.012896\n"
     ]
    },
    {
     "data": {
      "image/png": "[encoded data removed]",
      "text/plain": [
       "<Figure size 1200x800 with 1 Axes>"
      ]
     },
     "metadata": {},
     "output_type": "display_data"
    }
   ],
   "source": [
    "# Feature Importance Analysis\n",
    "print(\"Feature Importance Analysis\")\n",
    "print(\"=\" * 50)\n",
    "\n",
    "# Get feature importance from Random Forest\n",
    "feature_importance = pd.DataFrame({\n",
    "    'feature': X.columns,\n",
    "    'importance': best_model.feature_importances_\n",
    "}).sort_values('importance', ascending=False)\n",
    "\n",
    "print(\"Top 10 Features by Importance:\")\n",
    "print(feature_importance.head(10))\n",
    "\n",
    "# Visualize feature importance\n",
    "plt.figure(figsize=(12, 8))\n",
    "sns.barplot(data=feature_importance.head(10), x='importance', y='feature')\n",
    "plt.title(\"Top 10 Features by Importance (Random Forest)\")\n",
    "plt.xlabel(\"Importance Score\")\n",
    "plt.tight_layout()\n",
    "plt.show()"
   ]
  },
  {
   "cell_type": "code",
   "execution_count": 13,
   "id": "ae23487c",
   "metadata": {},
   "outputs": [
    {
     "name": "stdout",
     "output_type": "stream",
     "text": [
      "Saving the best model...\n",
      "Model saved successfully.\n",
      "Files saved:\n",
      "- housing_model.pkl\n",
      "- label_encoders.pkl\n"
     ]
    }
   ],
   "source": [
    "# Save the best model\n",
    "print(\"Saving the best model...\")\n",
    "\n",
    "import joblib\n",
    "\n",
    "# Save Random Forest model\n",
    "joblib.dump(best_model, '../models/trained_models/housing_model.pkl')\n",
    "joblib.dump(label_encoders, '../models/trained_models/label_encoders.pkl')\n",
    "\n",
    "print(\"Model saved successfully.\")\n",
    "print(\"Files saved:\")\n",
    "print(\"- housing_model.pkl\")\n",
    "print(\"- label_encoders.pkl\")"
   ]
  },
  {
   "cell_type": "code",
   "execution_count": 19,
   "id": "33dd893e",
   "metadata": {},
   "outputs": [
    {
     "name": "stdout",
     "output_type": "stream",
     "text": [
      "Model Development Summary\n",
      "============================================================\n",
      "Dataset: 20640 samples, 13 features\n",
      "Target: median_house_value ($14,999 - $500,001)\n",
      "\n",
      "Best Model: Random Forest\n",
      "Test R^2: 0.8050\n",
      "Test RMSE: $50,544\n",
      "Test MAE: $32,718\n",
      "\n",
      "Top 5 Important Features:\n",
      " 1. median_income: 0.5165\n",
      " 2. population_per_household: 0.1334\n",
      " 3. ocean_proximity: 0.0711\n",
      " 4. latitude: 0.0642\n",
      " 5. longitude: 0.0639\n",
      "\n",
      "Model Notes:\n",
      "- Overfitting detected (Train R^2: 0.97, Test R^2: 0.81)\n",
      "- Ready for production with caution\n",
      "- Consider hyperparameter tuning for better generalization\n",
      "\n",
      "Model development completed.\n"
     ]
    }
   ],
   "source": [
    "# Model Performance Summary\n",
    "print(\"Model Development Summary\")\n",
    "print(\"=\" * 60)\n",
    "\n",
    "print(f\"Dataset: {df.shape[0]} samples, {X.shape[1]} features\")\n",
    "print(f\"Target: median_house_value (${y.min():,.0f} - ${y.max():,.0f})\")\n",
    "\n",
    "print(f\"\\nBest Model: Random Forest\")\n",
    "print(f\"Test R^2: {results['Random Forest']['test_r2']:.4f}\")\n",
    "print(f\"Test RMSE: ${results['Random Forest']['test_rmse']:,.0f}\")\n",
    "print(f\"Test MAE: ${results['Random Forest']['test_mae']:,.0f}\")\n",
    "\n",
    "print(f\"\\nTop 5 Important Features:\")\n",
    "for i, (feature, importance) in enumerate(feature_importance.head(5).values):\n",
    "    print(f\" {i+1}. {feature}: {importance:.4f}\")\n",
    "\n",
    "print(f\"\\nModel Notes:\")\n",
    "print(f\"- Overfitting detected (Train R^2: 0.97, Test R^2: 0.81)\")\n",
    "print(f\"- Ready for production with caution\")\n",
    "print(f\"- Consider hyperparameter tuning for better generalization\")\n",
    "\n",
    "print(f\"\\nModel development completed.\")"
   ]
  },
  {
   "cell_type": "code",
   "execution_count": null,
   "id": "1190b33d",
   "metadata": {},
   "outputs": [],
   "source": []
  }
 ],
 "metadata": {
  "kernelspec": {
   "display_name": "Python 3",
   "language": "python",
   "name": "python3"
  },
  "language_info": {
   "codemirror_mode": {
    "name": "ipython",
    "version": 3
   },
   "file_extension": ".py",
   "mimetype": "text/x-python",
   "name": "python",
   "nbconvert_exporter": "python",
   "pygments_lexer": "ipython3",
   "version": "3.11.2"
  }
 },
 "nbformat": 4,
 "nbformat_minor": 5
}
